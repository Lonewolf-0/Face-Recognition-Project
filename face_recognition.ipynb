{
  "cells": [
    {
      "cell_type": "markdown",
      "metadata": {
        "id": "view-in-github",
        "colab_type": "text"
      },
      "source": [
        "<a href=\"https://colab.research.google.com/github/Lonewolf-0/Face-Recognition-Project/blob/main/face_recognition.ipynb\" target=\"_parent\"><img src=\"https://colab.research.google.com/assets/colab-badge.svg\" alt=\"Open In Colab\"/></a>"
      ]
    },
    {
      "cell_type": "code",
      "execution_count": null,
      "metadata": {
        "colab": {
          "base_uri": "https://localhost:8080/"
        },
        "id": "M3V0Qon493Nr",
        "outputId": "fa2ce427-6f86-4c65-820c-0f07ea4ee065"
      },
      "outputs": [
        {
          "output_type": "stream",
          "name": "stdout",
          "text": [
            "--2023-06-27 10:01:07--  https://upload.wikimedia.org/wikipedia/commons/e/ed/Elon_Musk_Royal_Society.jpg\n",
            "Resolving upload.wikimedia.org (upload.wikimedia.org)... 208.80.154.240, 2620:0:860:ed1a::2:b\n",
            "Connecting to upload.wikimedia.org (upload.wikimedia.org)|208.80.154.240|:443... connected.\n",
            "HTTP request sent, awaiting response... 200 OK\n",
            "Length: 816378 (797K) [image/jpeg]\n",
            "Saving to: ‘known/elon.jpg’\n",
            "\n",
            "known/elon.jpg      100%[===================>] 797.24K  --.-KB/s    in 0.1s    \n",
            "\n",
            "2023-06-27 10:01:07 (5.42 MB/s) - ‘known/elon.jpg’ saved [816378/816378]\n",
            "\n",
            "--2023-06-27 10:01:07--  https://pbs.twimg.com/profile_images/1564398871996174336/M-hffw5a_400x400.jpg\n",
            "Resolving pbs.twimg.com (pbs.twimg.com)... 192.229.173.16, 2606:2800:220:1410:489:141e:20bb:12f6\n",
            "Connecting to pbs.twimg.com (pbs.twimg.com)|192.229.173.16|:443... connected.\n",
            "HTTP request sent, awaiting response... 404 Not Found\n",
            "2023-06-27 10:01:08 ERROR 404: Not Found.\n",
            "\n",
            "--2023-06-27 10:01:08--  https://upload.wikimedia.org/wikipedia/commons/1/18/Mark_Zuckerberg_F8_2019_Keynote_%2832830578717%29_%28cropped%29.jpg\n",
            "Resolving upload.wikimedia.org (upload.wikimedia.org)... 208.80.154.240, 2620:0:860:ed1a::2:b\n",
            "Connecting to upload.wikimedia.org (upload.wikimedia.org)|208.80.154.240|:443... connected.\n",
            "HTTP request sent, awaiting response... 200 OK\n",
            "Length: 659461 (644K) [image/jpeg]\n",
            "Saving to: ‘known/mark.jpg’\n",
            "\n",
            "known/mark.jpg      100%[===================>] 644.00K  --.-KB/s    in 0.1s    \n",
            "\n",
            "2023-06-27 10:01:08 (4.52 MB/s) - ‘known/mark.jpg’ saved [659461/659461]\n",
            "\n"
          ]
        }
      ],
      "source": [
        "!mkdir known\n",
        "!wget https://upload.wikimedia.org/wikipedia/commons/e/ed/Elon_Musk_Royal_Society.jpg -O known/elon.jpg\n",
        "!wget https://pbs.twimg.com/profile_images/1564398871996174336/M-hffw5a_400x400.jpg -O known/bill.jpg\n",
        "!wget https://upload.wikimedia.org/wikipedia/commons/1/18/Mark_Zuckerberg_F8_2019_Keynote_%2832830578717%29_%28cropped%29.jpg -O known/mark.jpg"
      ]
    },
    {
      "cell_type": "code",
      "execution_count": null,
      "metadata": {
        "colab": {
          "base_uri": "https://localhost:8080/"
        },
        "id": "QxAXjjJ5-ELZ",
        "outputId": "5105ea29-02f3-453a-e899-5700df0f7717"
      },
      "outputs": [
        {
          "output_type": "stream",
          "name": "stdout",
          "text": [
            "--2023-06-27 10:01:08--  https://cdn.britannica.com/45/223045-050-A6453D5D/Telsa-CEO-Elon-Musk-2014.jpg\n",
            "Resolving cdn.britannica.com (cdn.britannica.com)... 18.172.122.62, 18.172.122.20, 18.172.122.6, ...\n",
            "Connecting to cdn.britannica.com (cdn.britannica.com)|18.172.122.62|:443... connected.\n",
            "HTTP request sent, awaiting response... 200 OK\n",
            "Length: 242654 (237K) [image/jpeg]\n",
            "Saving to: ‘unknown/1.jpg’\n",
            "\n",
            "\runknown/1.jpg         0%[                    ]       0  --.-KB/s               \runknown/1.jpg       100%[===================>] 236.97K  --.-KB/s    in 0.03s   \n",
            "\n",
            "2023-06-27 10:01:08 (7.66 MB/s) - ‘unknown/1.jpg’ saved [242654/242654]\n",
            "\n",
            "--2023-06-27 10:01:08--  https://upload.wikimedia.org/wikipedia/commons/a/a0/Bill_Gates_2018.jpg\n",
            "Resolving upload.wikimedia.org (upload.wikimedia.org)... 208.80.154.240, 2620:0:860:ed1a::2:b\n",
            "Connecting to upload.wikimedia.org (upload.wikimedia.org)|208.80.154.240|:443... connected.\n",
            "HTTP request sent, awaiting response... 200 OK\n",
            "Length: 318220 (311K) [image/jpeg]\n",
            "Saving to: ‘unknown/2.jpg’\n",
            "\n",
            "unknown/2.jpg       100%[===================>] 310.76K  --.-KB/s    in 0.1s    \n",
            "\n",
            "2023-06-27 10:01:09 (2.78 MB/s) - ‘unknown/2.jpg’ saved [318220/318220]\n",
            "\n",
            "--2023-06-27 10:01:09--  https://hips.hearstapps.com/hmg-prod/images/Mark-Zuckerberg_GettyImages-512304736.jpg?resize=1200:*\n",
            "Resolving hips.hearstapps.com (hips.hearstapps.com)... 151.101.0.155, 151.101.64.155, 151.101.128.155, ...\n",
            "Connecting to hips.hearstapps.com (hips.hearstapps.com)|151.101.0.155|:443... connected.\n",
            "HTTP request sent, awaiting response... 200 OK\n",
            "Length: 149977 (146K) [image/jpeg]\n",
            "Saving to: ‘unknown/3.jpg’\n",
            "\n",
            "unknown/3.jpg       100%[===================>] 146.46K  --.-KB/s    in 0.02s   \n",
            "\n",
            "2023-06-27 10:01:09 (6.28 MB/s) - ‘unknown/3.jpg’ saved [149977/149977]\n",
            "\n"
          ]
        }
      ],
      "source": [
        "!mkdir unknown\n",
        "!wget  https://cdn.britannica.com/45/223045-050-A6453D5D/Telsa-CEO-Elon-Musk-2014.jpg -O unknown/1.jpg\n",
        "!wget  https://upload.wikimedia.org/wikipedia/commons/a/a0/Bill_Gates_2018.jpg -O unknown/2.jpg\n",
        "!wget  https://hips.hearstapps.com/hmg-prod/images/Mark-Zuckerberg_GettyImages-512304736.jpg?resize=1200:* -O unknown/3.jpg"
      ]
    },
    {
      "cell_type": "code",
      "execution_count": null,
      "metadata": {
        "colab": {
          "base_uri": "https://localhost:8080/"
        },
        "id": "-tWesnNC-LJ2",
        "outputId": "616a215e-d03b-410c-a369-1f43e527236a"
      },
      "outputs": [
        {
          "output_type": "stream",
          "name": "stdout",
          "text": [
            "Looking in indexes: https://pypi.org/simple, https://us-python.pkg.dev/colab-wheels/public/simple/\n",
            "Collecting face_recognition\n",
            "  Downloading face_recognition-1.3.0-py2.py3-none-any.whl (15 kB)\n",
            "Collecting face-recognition-models>=0.3.0 (from face_recognition)\n",
            "  Downloading face_recognition_models-0.3.0.tar.gz (100.1 MB)\n",
            "\u001b[2K     \u001b[90m━━━━━━━━━━━━━━━━━━━━━━━━━━━━━━━━━━━━━━\u001b[0m \u001b[32m100.1/100.1 MB\u001b[0m \u001b[31m10.3 MB/s\u001b[0m eta \u001b[36m0:00:00\u001b[0m\n",
            "\u001b[?25h  Preparing metadata (setup.py) ... \u001b[?25l\u001b[?25hdone\n",
            "Requirement already satisfied: Click>=6.0 in /usr/local/lib/python3.10/dist-packages (from face_recognition) (8.1.3)\n",
            "Requirement already satisfied: dlib>=19.7 in /usr/local/lib/python3.10/dist-packages (from face_recognition) (19.24.2)\n",
            "Requirement already satisfied: numpy in /usr/local/lib/python3.10/dist-packages (from face_recognition) (1.22.4)\n",
            "Requirement already satisfied: Pillow in /usr/local/lib/python3.10/dist-packages (from face_recognition) (8.4.0)\n",
            "Building wheels for collected packages: face-recognition-models\n",
            "  Building wheel for face-recognition-models (setup.py) ... \u001b[?25l\u001b[?25hdone\n",
            "  Created wheel for face-recognition-models: filename=face_recognition_models-0.3.0-py2.py3-none-any.whl size=100566173 sha256=4576df11a7cb78d27463c372c80ba8cf44cc94a8c7b85f2f9d73e4ee3fb54b3f\n",
            "  Stored in directory: /root/.cache/pip/wheels/7a/eb/cf/e9eced74122b679557f597bb7c8e4c739cfcac526db1fd523d\n",
            "Successfully built face-recognition-models\n",
            "Installing collected packages: face-recognition-models, face_recognition\n",
            "Successfully installed face-recognition-models-0.3.0 face_recognition-1.3.0\n"
          ]
        }
      ],
      "source": [
        "!pip install face_recognition\n",
        "import face_recognition   ##Detecting and recognizing faces\n",
        "import cv2     ## intracting with images\n",
        "import os       ## For Reading the file name\n",
        "from google.colab.patches import cv2_imshow ## we are importing cv2_imshow from google.colab.patches because google colab doesn't support cv2.imshow() funciton."
      ]
    },
    {
      "cell_type": "code",
      "execution_count": null,
      "metadata": {
        "id": "sGTjSd2AAVbS"
      },
      "outputs": [],
      "source": [
        "def read_img(path):\n",
        "   img = cv2.imread(path) ## reading image\n",
        "   (h,w) = img.shape[:2]  ## fetching height and width\n",
        "   width = 500            ## hard coding width\n",
        "   ratio = width / float(w) ## preparing a ration for height\n",
        "   height = int(h * ratio)  ## generating new height\n",
        "   return cv2.resize(img,(width,height)) ##return the reshaped image\n"
      ]
    },
    {
      "cell_type": "code",
      "execution_count": null,
      "metadata": {
        "colab": {
          "base_uri": "https://localhost:8080/",
          "height": 235
        },
        "id": "dllW9__sAa65",
        "outputId": "54b9e694-6881-48bf-c603-601acb2b1d2c"
      },
      "outputs": [
        {
          "output_type": "error",
          "ename": "FileNotFoundError",
          "evalue": "ignored",
          "traceback": [
            "\u001b[0;31m---------------------------------------------------------------------------\u001b[0m",
            "\u001b[0;31mFileNotFoundError\u001b[0m                         Traceback (most recent call last)",
            "\u001b[0;32m<ipython-input-6-e52741c7a22e>\u001b[0m in \u001b[0;36m<cell line: 4>\u001b[0;34m()\u001b[0m\n\u001b[1;32m      2\u001b[0m \u001b[0mknown_names\u001b[0m \u001b[0;34m=\u001b[0m \u001b[0;34m[\u001b[0m\u001b[0;34m]\u001b[0m\u001b[0;34m\u001b[0m\u001b[0;34m\u001b[0m\u001b[0m\n\u001b[1;32m      3\u001b[0m \u001b[0mknown_dir\u001b[0m \u001b[0;34m=\u001b[0m \u001b[0;34m'content/known'\u001b[0m \u001b[0;31m##Known directory path\u001b[0m\u001b[0;34m\u001b[0m\u001b[0;34m\u001b[0m\u001b[0m\n\u001b[0;32m----> 4\u001b[0;31m \u001b[0;32mfor\u001b[0m \u001b[0mfile\u001b[0m \u001b[0;32min\u001b[0m \u001b[0mos\u001b[0m\u001b[0;34m.\u001b[0m\u001b[0mlistdir\u001b[0m\u001b[0;34m(\u001b[0m\u001b[0mknown_dir\u001b[0m\u001b[0;34m)\u001b[0m\u001b[0;34m:\u001b[0m\u001b[0;34m\u001b[0m\u001b[0;34m\u001b[0m\u001b[0m\n\u001b[0m\u001b[1;32m      5\u001b[0m   \u001b[0mimg\u001b[0m \u001b[0;34m=\u001b[0m \u001b[0mread_img\u001b[0m\u001b[0;34m(\u001b[0m\u001b[0mknown_dir\u001b[0m \u001b[0;34m+\u001b[0m \u001b[0;34m'/'\u001b[0m \u001b[0;34m+\u001b[0m \u001b[0mfile\u001b[0m\u001b[0;34m)\u001b[0m \u001b[0;31m##Reading all the images\u001b[0m\u001b[0;34m\u001b[0m\u001b[0;34m\u001b[0m\u001b[0m\n\u001b[1;32m      6\u001b[0m   \u001b[0mimg_enc\u001b[0m \u001b[0;34m=\u001b[0m \u001b[0mface_recognition\u001b[0m\u001b[0;34m.\u001b[0m\u001b[0mface_encodings\u001b[0m\u001b[0;34m(\u001b[0m\u001b[0mimg\u001b[0m\u001b[0;34m)\u001b[0m\u001b[0;34m[\u001b[0m\u001b[0;36m0\u001b[0m\u001b[0;34m]\u001b[0m \u001b[0;31m##face encodings\u001b[0m\u001b[0;34m\u001b[0m\u001b[0;34m\u001b[0m\u001b[0m\n",
            "\u001b[0;31mFileNotFoundError\u001b[0m: [Errno 2] No such file or directory: 'content/known'"
          ]
        }
      ],
      "source": [
        "known_encodings = []\n",
        "known_names = []\n",
        "known_dir = 'content/known' ##Known directory path\n",
        "for file in os.listdir(known_dir):\n",
        "  img = read_img(known_dir + '/' + file) ##Reading all the images\n",
        "  img_enc = face_recognition.face_encodings(img)[0] ##face encodings\n",
        "  known_encodings.append(img_enc)\n",
        "  known_names.append(file.split('.')[0])\n",
        "print(known_names) ## Printing all the known labels\n",
        "\n"
      ]
    },
    {
      "cell_type": "code",
      "execution_count": null,
      "metadata": {
        "id": "1Djt7AEaF0cG"
      },
      "outputs": [],
      "source": [
        "unknown_dir = 'content/unknown' ##UNknown Images Directory\n",
        "for file in os.listdir(unknown_dir):\n",
        " print(\"Processing\",file)\n",
        " img = read_img(unknown_dir + '/' + file)##reading images\n",
        " img_enc = face_recognition.face_encodings(img)[0]##Encodings\n",
        " results = face_recognition.compare_faces(known_encodings,img_enc)\n",
        " ##Comparing Known Encodings with Unknown encoding\n",
        " print(face_recognition.face_distance(known_encodings,img_enc))\n",
        " ## Printing Face Distances\n",
        " res = [i for i, val in enumerate(results) if val]\n",
        " name = known_names[res[0]]\n",
        "\n",
        " '''\n",
        "Drawing a rectangle box around the faces of unknown images using  face_locations function in library\n",
        "'''\n",
        " (top,right,bottom,left) = face_recognition.face_locations(img)[0]\n",
        " cv2.rectangle(img,(left,top),(right,bottom),(255,255,100),2)\n",
        " ##Drawing Rectangle\n",
        " cv2.putText(img,name,(left+2,bottom+20),cv2.FONT_HERSHEY_PLAIN,3, (100,0,255),2) ##Putting labels(names) on the rectangle\n",
        " cv2_imshow(img) ##showing images"
      ]
    }
  ],
  "metadata": {
    "accelerator": "GPU",
    "colab": {
      "provenance": [],
      "authorship_tag": "ABX9TyMIZoX1WkxELzwVQNSbmmCu",
      "include_colab_link": true
    },
    "gpuClass": "standard",
    "kernelspec": {
      "display_name": "Python 3",
      "name": "python3"
    },
    "language_info": {
      "name": "python"
    }
  },
  "nbformat": 4,
  "nbformat_minor": 0
}